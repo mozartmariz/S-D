{
 "cells": [
  {
   "cell_type": "code",
   "execution_count": 34,
   "id": "96384f8e",
   "metadata": {},
   "outputs": [],
   "source": [
    "import pandas as pd\n"
   ]
  },
  {
   "cell_type": "code",
   "execution_count": 35,
   "id": "38c28379",
   "metadata": {},
   "outputs": [],
   "source": [
    "def format_numbers(x):\n",
    "    if x >= 1_000_000 :\n",
    "        return f'{x/1_000_000:,.1f}Mi'\n",
    "    elif x >= 1_000 :\n",
    "        return f'{x/1_000_000:,.2f}Mi'\n",
    "    elif x >= 1 :\n",
    "        return f'{x/1_000:,.1f}k'"
   ]
  },
  {
   "cell_type": "code",
   "execution_count": 36,
   "id": "9e4118f9",
   "metadata": {},
   "outputs": [
    {
     "data": {
      "text/html": [
       "<div>\n",
       "<style scoped>\n",
       "    .dataframe tbody tr th:only-of-type {\n",
       "        vertical-align: middle;\n",
       "    }\n",
       "\n",
       "    .dataframe tbody tr th {\n",
       "        vertical-align: top;\n",
       "    }\n",
       "\n",
       "    .dataframe thead th {\n",
       "        text-align: right;\n",
       "    }\n",
       "</style>\n",
       "<table border=\"1\" class=\"dataframe\">\n",
       "  <thead>\n",
       "    <tr style=\"text-align: right;\">\n",
       "      <th></th>\n",
       "      <th>Data</th>\n",
       "      <th>NomeEmpresarial</th>\n",
       "      <th>Uf</th>\n",
       "      <th>Municipio</th>\n",
       "      <th>Cnpj</th>\n",
       "      <th>CodInstalacao</th>\n",
       "      <th>Segmento</th>\n",
       "      <th>DetalheInstalacao</th>\n",
       "      <th>Tag</th>\n",
       "      <th>TipoDaUnidade</th>\n",
       "      <th>GrupoDeProdutos</th>\n",
       "      <th>TancagemM3</th>\n",
       "    </tr>\n",
       "  </thead>\n",
       "  <tbody>\n",
       "    <tr>\n",
       "      <th>0</th>\n",
       "      <td>2025-03-24</td>\n",
       "      <td>2 IRMAOS PRODUTOS DE PETROLEO LTDA</td>\n",
       "      <td>SP</td>\n",
       "      <td>CAMPINAS</td>\n",
       "      <td>43544287000123</td>\n",
       "      <td>1066748</td>\n",
       "      <td>BASES DO RAMO DE TRR</td>\n",
       "      <td>EXCLUSIVA</td>\n",
       "      <td>TQ 06</td>\n",
       "      <td>TANQUE</td>\n",
       "      <td>DERIVADOS E BIOCOMBUSTÍVEIS</td>\n",
       "      <td>11</td>\n",
       "    </tr>\n",
       "    <tr>\n",
       "      <th>1</th>\n",
       "      <td>2025-03-24</td>\n",
       "      <td>2 IRMAOS PRODUTOS DE PETROLEO LTDA</td>\n",
       "      <td>SP</td>\n",
       "      <td>CAMPINAS</td>\n",
       "      <td>43544287000123</td>\n",
       "      <td>1066748</td>\n",
       "      <td>BASES DO RAMO DE TRR</td>\n",
       "      <td>EXCLUSIVA</td>\n",
       "      <td>TQ 07</td>\n",
       "      <td>TANQUE</td>\n",
       "      <td>DERIVADOS E BIOCOMBUSTÍVEIS</td>\n",
       "      <td>20</td>\n",
       "    </tr>\n",
       "    <tr>\n",
       "      <th>2</th>\n",
       "      <td>2025-03-24</td>\n",
       "      <td>2 IRMAOS PRODUTOS DE PETROLEO LTDA</td>\n",
       "      <td>SP</td>\n",
       "      <td>CAMPINAS</td>\n",
       "      <td>43544287000123</td>\n",
       "      <td>1066748</td>\n",
       "      <td>BASES DO RAMO DE TRR</td>\n",
       "      <td>EXCLUSIVA</td>\n",
       "      <td>TQ 08</td>\n",
       "      <td>TANQUE</td>\n",
       "      <td>DERIVADOS E BIOCOMBUSTÍVEIS</td>\n",
       "      <td>20</td>\n",
       "    </tr>\n",
       "  </tbody>\n",
       "</table>\n",
       "</div>"
      ],
      "text/plain": [
       "         Data                     NomeEmpresarial  Uf Municipio  \\\n",
       "0  2025-03-24  2 IRMAOS PRODUTOS DE PETROLEO LTDA  SP  CAMPINAS   \n",
       "1  2025-03-24  2 IRMAOS PRODUTOS DE PETROLEO LTDA  SP  CAMPINAS   \n",
       "2  2025-03-24  2 IRMAOS PRODUTOS DE PETROLEO LTDA  SP  CAMPINAS   \n",
       "\n",
       "             Cnpj  CodInstalacao              Segmento DetalheInstalacao  \\\n",
       "0  43544287000123        1066748  BASES DO RAMO DE TRR         EXCLUSIVA   \n",
       "1  43544287000123        1066748  BASES DO RAMO DE TRR         EXCLUSIVA   \n",
       "2  43544287000123        1066748  BASES DO RAMO DE TRR         EXCLUSIVA   \n",
       "\n",
       "     Tag TipoDaUnidade              GrupoDeProdutos  TancagemM3  \n",
       "0  TQ 06        TANQUE  DERIVADOS E BIOCOMBUSTÍVEIS          11  \n",
       "1  TQ 07        TANQUE  DERIVADOS E BIOCOMBUSTÍVEIS          20  \n",
       "2  TQ 08        TANQUE  DERIVADOS E BIOCOMBUSTÍVEIS          20  "
      ]
     },
     "execution_count": 36,
     "metadata": {},
     "output_type": "execute_result"
    }
   ],
   "source": [
    "file = 'tancagem_abastecimento_nacional.csv'\n",
    "tancagem = pd.read_csv(file)\n",
    "tancagem.head(3)"
   ]
  },
  {
   "cell_type": "code",
   "execution_count": 37,
   "id": "ec6a4994",
   "metadata": {},
   "outputs": [
    {
     "data": {
      "text/plain": [
       "0      DERIVADOS E BIOCOMBUSTÍVEIS\n",
       "14                        PETRÓLEO\n",
       "29                             GLP\n",
       "184                         OUTROS\n",
       "Name: GrupoDeProdutos, dtype: object"
      ]
     },
     "execution_count": 37,
     "metadata": {},
     "output_type": "execute_result"
    }
   ],
   "source": [
    "tancagem = tancagem[tancagem['TipoDaUnidade'] == 'TANQUE']\n",
    "tancagem.groupby(['Uf', 'GrupoDeProdutos', 'TipoDaUnidade'])['TancagemM3'].sum().reset_index().sort_values(by='TancagemM3',ascending=False)\n",
    "tancagem['GrupoDeProdutos'].drop_duplicates()"
   ]
  },
  {
   "cell_type": "code",
   "execution_count": 39,
   "id": "1b992f5d",
   "metadata": {},
   "outputs": [
    {
     "data": {
      "text/html": [
       "<div>\n",
       "<style scoped>\n",
       "    .dataframe tbody tr th:only-of-type {\n",
       "        vertical-align: middle;\n",
       "    }\n",
       "\n",
       "    .dataframe tbody tr th {\n",
       "        vertical-align: top;\n",
       "    }\n",
       "\n",
       "    .dataframe thead th {\n",
       "        text-align: right;\n",
       "    }\n",
       "</style>\n",
       "<table border=\"1\" class=\"dataframe\">\n",
       "  <thead>\n",
       "    <tr style=\"text-align: right;\">\n",
       "      <th></th>\n",
       "      <th>GrupoDeProdutos</th>\n",
       "      <th>TancagemM3</th>\n",
       "    </tr>\n",
       "  </thead>\n",
       "  <tbody>\n",
       "    <tr>\n",
       "      <th>0</th>\n",
       "      <td>DERIVADOS E BIOCOMBUSTÍVEIS</td>\n",
       "      <td>45.0Mi</td>\n",
       "    </tr>\n",
       "    <tr>\n",
       "      <th>3</th>\n",
       "      <td>PETRÓLEO</td>\n",
       "      <td>11.1Mi</td>\n",
       "    </tr>\n",
       "    <tr>\n",
       "      <th>2</th>\n",
       "      <td>OUTROS</td>\n",
       "      <td>1.8Mi</td>\n",
       "    </tr>\n",
       "    <tr>\n",
       "      <th>1</th>\n",
       "      <td>GLP</td>\n",
       "      <td>0.59Mi</td>\n",
       "    </tr>\n",
       "  </tbody>\n",
       "</table>\n",
       "</div>"
      ],
      "text/plain": [
       "               GrupoDeProdutos TancagemM3\n",
       "0  DERIVADOS E BIOCOMBUSTÍVEIS     45.0Mi\n",
       "3                     PETRÓLEO     11.1Mi\n",
       "2                       OUTROS      1.8Mi\n",
       "1                          GLP     0.59Mi"
      ]
     },
     "execution_count": 39,
     "metadata": {},
     "output_type": "execute_result"
    }
   ],
   "source": [
    "tancagem.groupby('GrupoDeProdutos')['TancagemM3'].sum().apply(format_numbers).reset_index().sort_values(by='TancagemM3',ascending=False)"
   ]
  }
 ],
 "metadata": {
  "kernelspec": {
   "display_name": "Python 3",
   "language": "python",
   "name": "python3"
  },
  "language_info": {
   "codemirror_mode": {
    "name": "ipython",
    "version": 3
   },
   "file_extension": ".py",
   "mimetype": "text/x-python",
   "name": "python",
   "nbconvert_exporter": "python",
   "pygments_lexer": "ipython3",
   "version": "3.13.2"
  }
 },
 "nbformat": 4,
 "nbformat_minor": 5
}
